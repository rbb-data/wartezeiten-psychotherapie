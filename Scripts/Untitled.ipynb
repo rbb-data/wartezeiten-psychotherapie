{
 "cells": [
  {
   "cell_type": "code",
   "execution_count": 1,
   "id": "4796a3b2",
   "metadata": {},
   "outputs": [],
   "source": [
    "import pandas as pd"
   ]
  },
  {
   "cell_type": "code",
   "execution_count": 21,
   "id": "c161523a",
   "metadata": {},
   "outputs": [],
   "source": [
    "filepath=\"../Interactive/data/Wartezeiten.json\""
   ]
  },
  {
   "cell_type": "code",
   "execution_count": 45,
   "id": "59966213",
   "metadata": {},
   "outputs": [
    {
     "name": "stdout",
     "output_type": "stream",
     "text": [
      "0           Herr Meier\n",
      "1        Frau Dietrich\n",
      "2          Herr Dunker\n",
      "3          Frau Stolze\n",
      "4     Frau De La Croix\n",
      "5       Herr Kozlowski\n",
      "6          Frau Zimmer\n",
      "7          Herr Garten\n",
      "8          Herr Nieder\n",
      "9            Herr Turm\n",
      "10       Herr Nakamori\n",
      "11         Herr Siegel\n",
      "12       Frau Albrecht\n",
      "13           Herr Nord\n",
      "14         Frau Müller\n",
      "15          Herr Kühne\n",
      "16            Frau Ahr\n",
      "17         Frau Elster\n",
      "18         Frau Wormer\n",
      "19           Herr Denz\n",
      "20       Herr Kornfeld\n",
      "21          Frau Ahorn\n",
      "22       Frau Schöffer\n",
      "23         Herr Ricken\n",
      "24         Herr Brauer\n",
      "25      Herr Kirchberg\n",
      "26         Frau Wimmer\n",
      "27      Herr Schwiesau\n",
      "28         Herr Bohlen\n",
      "29           Frau Adam\n",
      "30         Herr Specht\n",
      "31        Herr Laplace\n",
      "32         Herr Ritter\n",
      "33          Frau Strom\n",
      "34          Herr Weege\n",
      "35           Herr Weil\n",
      "36           Frau Dehm\n",
      "37     Frau Zarewitsch\n",
      "38          Herr Apfel\n",
      "39       Herr Ohnesorg\n",
      "40        Frau Demirel\n",
      "41         Herr Dreyer\n",
      "42        Herr Spiegel\n",
      "43      Frau Ellinghof\n",
      "44          Herr Gripp\n",
      "45    Herr Riedlberger\n",
      "46      Herr Hausstein\n",
      "47       Herr Sponholz\n",
      "Name: Pseudonamen, dtype: object\n"
     ]
    },
    {
     "data": {
      "text/plain": [
       "0           Herr Meier\n",
       "1        Frau Dietrich\n",
       "2          Herr Dunker\n",
       "3          Frau Stolze\n",
       "4     Frau De La Croix\n",
       "5       Herr Kozlowski\n",
       "6          Frau Zimmer\n",
       "7          Herr Garten\n",
       "8          Herr Nieder\n",
       "9            Herr Turm\n",
       "10       Herr Nakamori\n",
       "11         Herr Siegel\n",
       "12       Frau Albrecht\n",
       "13           Herr Nord\n",
       "14         Frau Müller\n",
       "15          Herr Kühne\n",
       "16            Frau Ahr\n",
       "17         Frau Elster\n",
       "18         Frau Wormer\n",
       "19           Herr Denz\n",
       "20       Herr Kornfeld\n",
       "21          Frau Ahorn\n",
       "22       Frau Schöffer\n",
       "23         Herr Ricken\n",
       "24         Herr Brauer\n",
       "25      Herr Kirchberg\n",
       "26         Frau Wimmer\n",
       "27      Herr Schwiesau\n",
       "28         Herr Bohlen\n",
       "29           Frau Adam\n",
       "30         Herr Specht\n",
       "31        Herr Laplace\n",
       "32         Herr Ritter\n",
       "33          Frau Strom\n",
       "34          Herr Weege\n",
       "35           Herr Weil\n",
       "36           Frau Dehm\n",
       "37     Frau Zarewitsch\n",
       "38          Herr Apfel\n",
       "39       Herr Ohnesorg\n",
       "40        Frau Demirel\n",
       "41         Herr Dreyer\n",
       "42        Herr Spiegel\n",
       "43      Frau Ellinghof\n",
       "44          Herr Gripp\n",
       "45    Herr Riedlberger\n",
       "46      Herr Hausstein\n",
       "47       Herr Sponholz\n",
       "Name: Pseudonamen, dtype: object"
      ]
     },
     "execution_count": 45,
     "metadata": {},
     "output_type": "execute_result"
    }
   ],
   "source": [
    "import json\n",
    "\n",
    "with open(filepath) as data_file:    \n",
    "    data = json.load(data_file)  \n",
    "\n",
    "df = pd.json_normalize(data, 'stadt')\n",
    "print(df.Pseudonamen)\n",
    "(df.Pseudonamen.drop_duplicates())"
   ]
  },
  {
   "cell_type": "code",
   "execution_count": 46,
   "id": "a475e3d8",
   "metadata": {},
   "outputs": [
    {
     "name": "stdout",
     "output_type": "stream",
     "text": [
      "48 48\n"
     ]
    }
   ],
   "source": [
    "print(len(df.Pseudonamen),len(df.Pseudonamen.drop_duplicates()))"
   ]
  },
  {
   "cell_type": "code",
   "execution_count": null,
   "id": "0ef05941",
   "metadata": {},
   "outputs": [],
   "source": []
  }
 ],
 "metadata": {
  "kernelspec": {
   "display_name": "Python 3 (ipykernel)",
   "language": "python",
   "name": "python3"
  },
  "language_info": {
   "codemirror_mode": {
    "name": "ipython",
    "version": 3
   },
   "file_extension": ".py",
   "mimetype": "text/x-python",
   "name": "python",
   "nbconvert_exporter": "python",
   "pygments_lexer": "ipython3",
   "version": "3.9.6"
  }
 },
 "nbformat": 4,
 "nbformat_minor": 5
}
