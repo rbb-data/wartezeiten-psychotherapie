{
 "cells": [
  {
   "cell_type": "markdown",
   "metadata": {},
   "source": [
    "# One-Sample Wilcoxon Signed Rank Test\n",
    "*By P. Stikker*<br>\n",
    "https://PeterStatistics.com<br>\n",
    "https://www.youtube.com/stikpet<br>"
   ]
  },
  {
   "cell_type": "markdown",
   "metadata": {},
   "source": [
    "## Introduction"
   ]
  },
  {
   "cell_type": "markdown",
   "metadata": {},
   "source": [
    "Two tests can be used to test a hypothesized median. The first does exactly what this and is known as a sign-test, however another test is more frequently used and has a lot scarier name: one-sample Wilcoxon signed rank test (Wilcoxon, 1945). This second test uses rankings (it ranks the scores) and because of this might give a slightly different result. The advantage of this second test is that it can catch some smaller differences and is the one I will explain here. If you are curious about what the Wilcoxon test does exactly I'd recommend <a href=\"https://onlinecourses.science.psu.edu/stat414/node/319\">this site</a>. \n",
    "\n",
    "In the Example section, I'll discuss how to perform a one-sample Wilcoxon Signed Rank Test with an example."
   ]
  },
  {
   "cell_type": "markdown",
   "metadata": {},
   "source": [
    "## Example"
   ]
  },
  {
   "cell_type": "markdown",
   "metadata": {},
   "source": [
    "First we'll need some example data. I'll import it as a Pandas dataframe, so will need 'pandas'."
   ]
  },
  {
   "cell_type": "code",
   "execution_count": 1,
   "metadata": {},
   "outputs": [],
   "source": [
    "import pandas as pd       # https://pandas.pydata.org/"
   ]
  },
  {
   "cell_type": "markdown",
   "metadata": {},
   "source": [
    "And then load the example data using the <a href=\"https://pandas.pydata.org/pandas-docs/stable/reference/api/pandas.read_csv.html\">'read_csv'</a>. "
   ]
  },
  {
   "cell_type": "code",
   "execution_count": 4,
   "metadata": {},
   "outputs": [
    {
     "name": "stderr",
     "output_type": "stream",
     "text": [
      "C:\\Users\\peter.stikker\\Anaconda3\\lib\\site-packages\\IPython\\core\\interactiveshell.py:3063: DtypeWarning: Columns (11,115,123,187,274,284,287,288,290,291,292,397,585,595,628,632) have mixed types.Specify dtype option on import or set low_memory=False.\n",
      "  interactivity=interactivity, compiler=compiler, result=result)\n"
     ]
    }
   ],
   "source": [
    "myDf = pd.read_csv('../../Data/csv/GSS2012a.csv')"
   ]
  },
  {
   "cell_type": "code",
   "execution_count": 5,
   "metadata": {},
   "outputs": [],
   "source": [
    "myField = myDf['accntsci'].dropna()"
   ]
  },
  {
   "cell_type": "markdown",
   "metadata": {},
   "source": [
    "The categories in this field are their original labels, but need to be numeric values, so we should re-code the field into numeric values.\n",
    "\n",
    "Lets first see which options there were (using '<a href=\"https://pandas.pydata.org/pandas-docs/stable/reference/api/pandas.unique.html\">unique</a>')."
   ]
  },
  {
   "cell_type": "code",
   "execution_count": 6,
   "metadata": {},
   "outputs": [
    {
     "data": {
      "text/plain": [
       "array(['Very scientific', 'Pretty scientific', 'Not too scientific',\n",
       "       'Not scientific at all'], dtype=object)"
      ]
     },
     "execution_count": 6,
     "metadata": {},
     "output_type": "execute_result"
    }
   ],
   "source": [
    "myField.unique()"
   ]
  },
  {
   "cell_type": "markdown",
   "metadata": {},
   "source": [
    "Lets assign these to numeric values, by making a dictionary out of the coding:"
   ]
  },
  {
   "cell_type": "code",
   "execution_count": 7,
   "metadata": {},
   "outputs": [],
   "source": [
    "myCoding = {'Not scientific at all': 1, 'Not too scientific': 2, 'Pretty scientific': 3, 'Very scientific': 4}"
   ]
  },
  {
   "cell_type": "markdown",
   "metadata": {},
   "source": [
    "And now to replace the labels with their new codes (using '<a href=\"https://pandas.pydata.org/pandas-docs/stable/reference/api/pandas.DataFrame.replace.html\">replace</a>'):"
   ]
  },
  {
   "cell_type": "code",
   "execution_count": 8,
   "metadata": {},
   "outputs": [],
   "source": [
    "myField2 = myField.replace(myCoding)"
   ]
  },
  {
   "cell_type": "markdown",
   "metadata": {},
   "source": [
    "The Wilcoxon test can be found in the scipy.stats library. So lets import that:"
   ]
  },
  {
   "cell_type": "code",
   "execution_count": 9,
   "metadata": {},
   "outputs": [],
   "source": [
    "from scipy.stats import wilcoxon  # https://docs.scipy.org/doc/scipy/reference/generated/scipy.stats.wilcoxon.html"
   ]
  },
  {
   "cell_type": "markdown",
   "metadata": {},
   "source": [
    "The test requires a hypothesized median. I'd like to use the middle value of the possible scores for this, so in the example thats right between 'Not too scientific' and 'Pretty scientific', so at 2.5."
   ]
  },
  {
   "cell_type": "code",
   "execution_count": 10,
   "metadata": {},
   "outputs": [],
   "source": [
    "medHyp = 2.5"
   ]
  },
  {
   "cell_type": "markdown",
   "metadata": {},
   "source": [
    "Now the test, will look at the differences with this hypothesized median, so each time at 'myField2-medHyp', the test itself can then be done as shown below."
   ]
  },
  {
   "cell_type": "code",
   "execution_count": 11,
   "metadata": {},
   "outputs": [
    {
     "name": "stdout",
     "output_type": "stream",
     "text": [
      "129626.0\n",
      "8.078555909697749e-33\n"
     ]
    }
   ],
   "source": [
    "rank, pVal = wilcoxon(myField2-medHyp, zero_method = 'wilcox', correction = False)\n",
    "print(rank)\n",
    "print(pVal)"
   ]
  },
  {
   "cell_type": "markdown",
   "metadata": {},
   "source": [
    "The 'zero_method' is about how it should deal with ties. That is, if the score is equal to the hypothesized median. The options are:\n",
    "\n",
    "* 'pratt', which will include the zero values when determining the ranks, but removes the ranks of the zero values itself.\n",
    "* 'wilcox', which simply first removes them\n",
    "* 'zsplit', includes the zero values and splits the ranks over the positive and negative ones.\n",
    "\n",
    "The 'correction' is about the continuity correction.\n",
    "\n",
    "The 129626 is either the sum of the ranks that were positive, or the sum of the ranks that had a negative deviation, whichever is smaller.\n",
    "\n",
    "The last value is the p-value (sig. in SPSS terms). It is the probability of results as in the sample, or even more extreme, if the population median would indeed be 2.5. Usually if this value is below .05 we would conclude that this assumption about the population is not true, and report that there is a significant difference.\n",
    "\n",
    "For the reporting a so-called Z-value is often noted as well, but unfortunately not returned by the wilcoxon function. Guess we'll have to reverse-engineer that.\n",
    "\n",
    "We'll need the function from the 'norm' package of scipy.stats for that:"
   ]
  },
  {
   "cell_type": "code",
   "execution_count": 12,
   "metadata": {},
   "outputs": [],
   "source": [
    "from scipy.stats import norm   # https://docs.scipy.org/doc/scipy/reference/generated/scipy.stats.norm.html"
   ]
  },
  {
   "cell_type": "markdown",
   "metadata": {},
   "source": [
    "Then, simply use the found p-value to find the corresponding z-value:"
   ]
  },
  {
   "cell_type": "code",
   "execution_count": 13,
   "metadata": {},
   "outputs": [
    {
     "data": {
      "text/plain": [
       "-11.931822145966912"
      ]
     },
     "execution_count": 13,
     "metadata": {},
     "output_type": "execute_result"
    }
   ],
   "source": [
    "norm.ppf(pVal/2)"
   ]
  },
  {
   "cell_type": "markdown",
   "metadata": {},
   "source": [
    "I like to automate things, so below a function that will do all the work. To automate on deciding the hypothesized mean, I would also need the mean function from python's statistics library:"
   ]
  },
  {
   "cell_type": "code",
   "execution_count": 14,
   "metadata": {},
   "outputs": [],
   "source": [
    "from statistics import mean    # https://docs.python.org/3/library/statistics.html#statistics.mean"
   ]
  },
  {
   "cell_type": "markdown",
   "metadata": {},
   "source": [
    "Now for my own function:"
   ]
  },
  {
   "cell_type": "code",
   "execution_count": 15,
   "metadata": {},
   "outputs": [],
   "source": [
    "# Wilcoxon one-sample test\n",
    "\n",
    "def wilcoxonOS(myData, field, catCoding=None, hypMed = None):\n",
    "    myField = myData[field].dropna()   \n",
    "    \n",
    "    if catCoding != None:\n",
    "        myField = myField.replace(catCoding)\n",
    "    myFreq = myField.value_counts()\n",
    "    \n",
    "    myMed = hypMed\n",
    "    if hypMed == None:\n",
    "        myMed = (min(myFreq.index)+max(myFreq.index))/2\n",
    "    \n",
    "    rank, pVal = wilcoxon(myField-myMed, zero_method = 'wilcox', correction = False)\n",
    "    zVal = norm.ppf(pVal/2)\n",
    "    \n",
    "    return rank, pVal, zVal, myMed"
   ]
  },
  {
   "cell_type": "markdown",
   "metadata": {},
   "source": [
    "Lets test it out:"
   ]
  },
  {
   "cell_type": "code",
   "execution_count": 16,
   "metadata": {},
   "outputs": [
    {
     "data": {
      "text/plain": [
       "(129626.0, 8.078555909697749e-33, -11.931822145966912, 2.5)"
      ]
     },
     "execution_count": 16,
     "metadata": {},
     "output_type": "execute_result"
    }
   ],
   "source": [
    "wilcoxonOS(myDf, 'accntsci', catCoding={'Not scientific at all': 1, 'Not too scientific': 2, 'Pretty scientific': 3, 'Very scientific': 4}, hypMed = 2.5)"
   ]
  },
  {
   "cell_type": "markdown",
   "metadata": {},
   "source": [
    "And another example:"
   ]
  },
  {
   "cell_type": "code",
   "execution_count": 17,
   "metadata": {},
   "outputs": [
    {
     "data": {
      "text/plain": [
       "(236.5, 0.005298523793092, -2.7883013105590395, 3.0)"
      ]
     },
     "execution_count": 17,
     "metadata": {},
     "output_type": "execute_result"
    }
   ],
   "source": [
    "myDf = pd.read_csv('../../Data/csv/StudentStatistics.csv')\n",
    "wilcoxonOS(myDf, 'Teach_Motivate', catCoding = {'Fully Disagree': 1, 'Disagree': 2, 'Neither disagree nor agree': 3, 'Agree': 4, 'Fully agree': 5})"
   ]
  },
  {
   "cell_type": "markdown",
   "metadata": {},
   "source": [
    "## References\n",
    "\n",
    "Wilcoxon, F. (1945). Individual comparisons by ranking methods. *Biometrics Bulletin, 1*(6), 80. doi:10.2307/3001968"
   ]
  },
  {
   "cell_type": "markdown",
   "metadata": {},
   "source": [
    "## Appendix: A function using an almost native python approach"
   ]
  },
  {
   "cell_type": "code",
   "execution_count": 33,
   "metadata": {},
   "outputs": [],
   "source": [
    "# function to convert a list to ranked scores\n",
    "\n",
    "def rankList(aList):\n",
    "    sortList = aList.copy()\n",
    "    sortList.sort()\n",
    "    \n",
    "    latestRank = 1\n",
    "    rankDict = {}\n",
    "    rankFreq = {}\n",
    "    freqScore = 1\n",
    "    for i in range(1, len(sortList)):\n",
    "\n",
    "        if sortList[i] == sortList[i-1]:\n",
    "            freqScore = freqScore + 1\n",
    "\n",
    "        if sortList[i] != sortList[i-1]:\n",
    "            rank = (2*latestRank + freqScore - 1) / 2\n",
    "\n",
    "            rankDict[sortList[i-1]] = rank\n",
    "            rankFreq[rank] = freqScore\n",
    "            latestRank = latestRank + freqScore\n",
    "            freqScore = 1\n",
    "\n",
    "    # the last case\n",
    "    rankDict[sortList[len(sortList)-1]] = (2*latestRank + freqScore - 1) / 2\n",
    "    rankFreq[(2*latestRank + freqScore - 1) / 2] = freqScore\n",
    "    \n",
    "    # replace list scores with rank scores\n",
    "    allRanks = []\n",
    "    for i in aList:\n",
    "        allRanks.append(rankDict[i])\n",
    "    \n",
    "    return rankFreq, rankDict, allRanks"
   ]
  },
  {
   "cell_type": "code",
   "execution_count": 110,
   "metadata": {},
   "outputs": [],
   "source": [
    "def wilcoxonOneSample(data, field, hypMed = None, coding = None):\n",
    "    myField = data[field].dropna()\n",
    "    if coding != None:\n",
    "        myField = myField.replace(coding)\n",
    "    \n",
    "    if hypMed == None:\n",
    "        medH0 = sum(myField.unique()) / len(myField.unique())\n",
    "    else:\n",
    "        medH0 = hypMed\n",
    "\n",
    "    d = []\n",
    "    sgns = []\n",
    "    for i in myField:\n",
    "        if i != medH0:\n",
    "            d = d + [abs(i - medH0)]\n",
    "\n",
    "            if i > medH0:\n",
    "                sgns = sgns + [1]\n",
    "            else:\n",
    "                sgns = sgns + [-1]\n",
    "\n",
    "    rankFreq, rankDict, allRanks = rankList(d)\n",
    "\n",
    "    nr = len(allRanks)\n",
    "    var = nr * (nr + 1) * (2*nr + 1) / 24\n",
    "\n",
    "    T = 0\n",
    "    for i in rankFreq:\n",
    "        T = T + rankFreq[i]**3 - rankFreq[i]\n",
    "    T = T/48\n",
    "\n",
    "    varAdj = var - T\n",
    "    SEadj = varAdj**0.5\n",
    "    D = nr * (nr + 1) / 4\n",
    "\n",
    "    Wplus = 0\n",
    "    Wmin = 0\n",
    "    for i in range(nr):\n",
    "        if sgns[i] > 0:\n",
    "            Wplus = Wplus + allRanks[i]\n",
    "        else:\n",
    "            Wmin = Wmin + allRanks[i]\n",
    "\n",
    "    Wadj = (Wplus - D) / SEadj\n",
    "    \n",
    "    # use scipy.stats for exact distribution if nr < 20\n",
    "    if nr < 20:\n",
    "        rank, pVal = wilcoxon(myField-hypMed, zero_method = 'wilcox', correction = False)\n",
    "        testUsed = 'Wilcoxon one-sample (exact)'\n",
    "    else:\n",
    "        pVal = norm.sf(abs(Wadj))*2\n",
    "        testUsed = 'Wilcoxon one-sample (appr.)'\n",
    "\n",
    "    # Set all results as a panda dataframe.\n",
    "    results = pd.DataFrame()\n",
    "    results['variable'] = [field]\n",
    "    results['test'] = testUsed\n",
    "    results['Wadj'] = Wadj\n",
    "    results['SEadj'] = SEadj\n",
    "    results['n'] = nr\n",
    "    results['sig.'] = pVal\n",
    "    \n",
    "    return results"
   ]
  },
  {
   "cell_type": "code",
   "execution_count": 111,
   "metadata": {},
   "outputs": [],
   "source": [
    "catCoding = {'Fully Disagree': 1, 'Disagree': 2, 'Neither disagree nor agree': 3, 'Agree': 4, 'Fully agree': 5}\n",
    "data = myDf\n",
    "field = 'Teach_Motivate'\n"
   ]
  },
  {
   "cell_type": "code",
   "execution_count": 112,
   "metadata": {},
   "outputs": [
    {
     "data": {
      "text/html": [
       "<div>\n",
       "<style scoped>\n",
       "    .dataframe tbody tr th:only-of-type {\n",
       "        vertical-align: middle;\n",
       "    }\n",
       "\n",
       "    .dataframe tbody tr th {\n",
       "        vertical-align: top;\n",
       "    }\n",
       "\n",
       "    .dataframe thead th {\n",
       "        text-align: right;\n",
       "    }\n",
       "</style>\n",
       "<table border=\"1\" class=\"dataframe\">\n",
       "  <thead>\n",
       "    <tr style=\"text-align: right;\">\n",
       "      <th></th>\n",
       "      <th>variable</th>\n",
       "      <th>test</th>\n",
       "      <th>Wadj</th>\n",
       "      <th>SEadj</th>\n",
       "      <th>n</th>\n",
       "      <th>sig.</th>\n",
       "    </tr>\n",
       "  </thead>\n",
       "  <tbody>\n",
       "    <tr>\n",
       "      <th>0</th>\n",
       "      <td>Teach_Motivate</td>\n",
       "      <td>Wilcoxon one-sample (appr.)</td>\n",
       "      <td>-2.788301</td>\n",
       "      <td>77.107879</td>\n",
       "      <td>42</td>\n",
       "      <td>0.005299</td>\n",
       "    </tr>\n",
       "  </tbody>\n",
       "</table>\n",
       "</div>"
      ],
      "text/plain": [
       "         variable                         test      Wadj      SEadj   n  \\\n",
       "0  Teach_Motivate  Wilcoxon one-sample (appr.) -2.788301  77.107879  42   \n",
       "\n",
       "       sig.  \n",
       "0  0.005299  "
      ]
     },
     "execution_count": 112,
     "metadata": {},
     "output_type": "execute_result"
    }
   ],
   "source": [
    "wilcoxonOneSample(myDf, 'Teach_Motivate', hypMed = None, coding = catCoding)"
   ]
  },
  {
   "cell_type": "code",
   "execution_count": 113,
   "metadata": {},
   "outputs": [
    {
     "name": "stderr",
     "output_type": "stream",
     "text": [
      "C:\\Users\\peter.stikker\\Anaconda3\\lib\\site-packages\\IPython\\core\\interactiveshell.py:3063: DtypeWarning: Columns (11,115,123,187,274,284,287,288,290,291,292,397,585,595,628,632) have mixed types.Specify dtype option on import or set low_memory=False.\n",
      "  interactivity=interactivity, compiler=compiler, result=result)\n"
     ]
    }
   ],
   "source": [
    "myDf2 = pd.read_csv('../../Data/csv/GSS2012a.csv')\n",
    "myCoding2 = {'Not scientific at all': 1, 'Not too scientific': 2, 'Pretty scientific': 3, 'Very scientific': 4}"
   ]
  },
  {
   "cell_type": "code",
   "execution_count": 114,
   "metadata": {},
   "outputs": [
    {
     "data": {
      "text/html": [
       "<div>\n",
       "<style scoped>\n",
       "    .dataframe tbody tr th:only-of-type {\n",
       "        vertical-align: middle;\n",
       "    }\n",
       "\n",
       "    .dataframe tbody tr th {\n",
       "        vertical-align: top;\n",
       "    }\n",
       "\n",
       "    .dataframe thead th {\n",
       "        text-align: right;\n",
       "    }\n",
       "</style>\n",
       "<table border=\"1\" class=\"dataframe\">\n",
       "  <thead>\n",
       "    <tr style=\"text-align: right;\">\n",
       "      <th></th>\n",
       "      <th>variable</th>\n",
       "      <th>test</th>\n",
       "      <th>Wadj</th>\n",
       "      <th>SEadj</th>\n",
       "      <th>n</th>\n",
       "      <th>sig.</th>\n",
       "    </tr>\n",
       "  </thead>\n",
       "  <tbody>\n",
       "    <tr>\n",
       "      <th>0</th>\n",
       "      <td>accntsci</td>\n",
       "      <td>Wilcoxon one-sample (appr.)</td>\n",
       "      <td>-11.931822</td>\n",
       "      <td>8225.189648</td>\n",
       "      <td>954</td>\n",
       "      <td>8.078556e-33</td>\n",
       "    </tr>\n",
       "  </tbody>\n",
       "</table>\n",
       "</div>"
      ],
      "text/plain": [
       "   variable                         test       Wadj        SEadj    n  \\\n",
       "0  accntsci  Wilcoxon one-sample (appr.) -11.931822  8225.189648  954   \n",
       "\n",
       "           sig.  \n",
       "0  8.078556e-33  "
      ]
     },
     "execution_count": 114,
     "metadata": {},
     "output_type": "execute_result"
    }
   ],
   "source": [
    "wilcoxonOneSample(myDf2, 'accntsci', hypMed = None, coding = myCoding2)"
   ]
  },
  {
   "cell_type": "code",
   "execution_count": null,
   "metadata": {},
   "outputs": [],
   "source": []
  }
 ],
 "metadata": {
  "kernelspec": {
   "display_name": "Python 3 (ipykernel)",
   "language": "python",
   "name": "python3"
  },
  "language_info": {
   "codemirror_mode": {
    "name": "ipython",
    "version": 3
   },
   "file_extension": ".py",
   "mimetype": "text/x-python",
   "name": "python",
   "nbconvert_exporter": "python",
   "pygments_lexer": "ipython3",
   "version": "3.9.6"
  }
 },
 "nbformat": 4,
 "nbformat_minor": 4
}
